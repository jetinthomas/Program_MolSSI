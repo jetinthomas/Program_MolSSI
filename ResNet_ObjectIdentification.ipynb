{
  "nbformat": 4,
  "nbformat_minor": 0,
  "metadata": {
    "accelerator": "GPU",
    "colab": {
      "name": "ResNet_ObjectIdentification.ipynb",
      "provenance": [],
      "collapsed_sections": [],
      "machine_shape": "hm"
    },
    "kernelspec": {
      "name": "python3",
      "display_name": "Python 3"
    },
    "language_info": {
      "codemirror_mode": {
        "name": "ipython",
        "version": 3
      },
      "file_extension": ".py",
      "mimetype": "text/x-python",
      "name": "python",
      "nbconvert_exporter": "python",
      "pygments_lexer": "ipython3",
      "version": "3.7.3"
    }
  },
  "cells": [
    {
      "cell_type": "markdown",
      "metadata": {
        "id": "zG3mPEyWYLzg",
        "colab_type": "text"
      },
      "source": [
        "## The following code is used for object identification and classifying the objects based on their types. \n",
        "In my case, the objects are images of cars and they are classified on the basis of the type of car. The algorithm used for the classification is ResNet.\n",
        "\n",
        "The contents for this code has been taken from online source () . This example of code is not written by me but I used it for my object classification exercise. The intention of showing this code is to show that I can work with complex and much involved architecture of Neural Networks."
      ]
    },
    {
      "cell_type": "markdown",
      "metadata": {
        "id": "HbLRdeCqYOks",
        "colab_type": "text"
      },
      "source": [
        "# Loading Modules"
      ]
    },
    {
      "cell_type": "code",
      "metadata": {
        "id": "3HYWsBtcVsaU",
        "colab_type": "code",
        "colab": {}
      },
      "source": [
        "%reload_ext autoreload\n",
        "%autoreload 2\n",
        "%matplotlib inline\n",
        "\n",
        "import pandas as pd\n",
        "from pathlib import Path\n",
        "import json\n",
        "from PIL import ImageDraw, ImageFont\n",
        "from matplotlib import patches, patheffects\n",
        "import matplotlib.pyplot as plt\n",
        "\n",
        "import scipy.io as sio"
      ],
      "execution_count": 0,
      "outputs": []
    },
    {
      "cell_type": "code",
      "metadata": {
        "colab_type": "code",
        "id": "e-YCswth14Lq",
        "colab": {}
      },
      "source": [
        "from fastai import *\n",
        "from fastai.vision import *"
      ],
      "execution_count": 0,
      "outputs": []
    },
    {
      "cell_type": "code",
      "metadata": {
        "colab_type": "code",
        "id": "HTsPUv7MDfAk",
        "outputId": "5b178f15-eb1b-4598-ea5f-0d3037707b07",
        "colab": {
          "base_uri": "https://localhost:8080/",
          "height": 303
        }
      },
      "source": [
        "from fastai import ImageItemList"
      ],
      "execution_count": 0,
      "outputs": [
        {
          "output_type": "error",
          "ename": "ImportError",
          "evalue": "ignored",
          "traceback": [
            "\u001b[0;31m---------------------------------------------------------------------------\u001b[0m",
            "\u001b[0;31mImportError\u001b[0m                               Traceback (most recent call last)",
            "\u001b[0;32m<ipython-input-146-9754010b38ff>\u001b[0m in \u001b[0;36m<module>\u001b[0;34m()\u001b[0m\n\u001b[0;32m----> 1\u001b[0;31m \u001b[0;32mfrom\u001b[0m \u001b[0mfastai\u001b[0m \u001b[0;32mimport\u001b[0m \u001b[0mImageItemList\u001b[0m\u001b[0;34m\u001b[0m\u001b[0;34m\u001b[0m\u001b[0m\n\u001b[0m",
            "\u001b[0;31mImportError\u001b[0m: cannot import name 'ImageItemList'",
            "",
            "\u001b[0;31m---------------------------------------------------------------------------\u001b[0;32m\nNOTE: If your import is failing due to a missing package, you can\nmanually install dependencies using either !pip or !apt.\n\nTo view examples of installing some common dependencies, click the\n\"Open Examples\" button below.\n\u001b[0;31m---------------------------------------------------------------------------\u001b[0m\n"
          ]
        }
      ]
    },
    {
      "cell_type": "markdown",
      "metadata": {
        "id": "N3bRNSH3WRtm",
        "colab_type": "text"
      },
      "source": [
        "# The path to the image data set."
      ]
    },
    {
      "cell_type": "code",
      "metadata": {
        "colab_type": "code",
        "id": "utl_u9T41-ZP",
        "colab": {}
      },
      "source": [
        "path = \"/content/drive/My Drive/ObjectID_Stanford_Dataset/\""
      ],
      "execution_count": 0,
      "outputs": []
    },
    {
      "cell_type": "code",
      "metadata": {
        "colab_type": "code",
        "id": "02tg4iX-2SVd",
        "outputId": "7ea53a0a-09af-4280-e712-3285f7ab2209",
        "colab": {
          "base_uri": "https://localhost:8080/",
          "height": 34
        }
      },
      "source": [
        "!pwd"
      ],
      "execution_count": 0,
      "outputs": [
        {
          "output_type": "stream",
          "text": [
            "/content\n"
          ],
          "name": "stdout"
        }
      ]
    },
    {
      "cell_type": "code",
      "metadata": {
        "colab_type": "code",
        "id": "k_Qu0ZmW2WkQ",
        "outputId": "111807d0-65b5-42fc-cd45-b9c36f7e94af",
        "colab": {
          "base_uri": "https://localhost:8080/",
          "height": 103
        }
      },
      "source": [
        "PATH = Path(path)\n",
        "list(PATH.iterdir())"
      ],
      "execution_count": 0,
      "outputs": [
        {
          "output_type": "execute_result",
          "data": {
            "text/plain": [
              "[PosixPath('/content/drive/My Drive/ObjectID_Stanford_Dataset/car_data'),\n",
              " PosixPath('/content/drive/My Drive/ObjectID_Stanford_Dataset/anno_test.csv'),\n",
              " PosixPath('/content/drive/My Drive/ObjectID_Stanford_Dataset/anno_train.csv'),\n",
              " PosixPath('/content/drive/My Drive/ObjectID_Stanford_Dataset/names.csv'),\n",
              " PosixPath('/content/drive/My Drive/ObjectID_Stanford_Dataset/wo_year_names.csv')]"
            ]
          },
          "metadata": {
            "tags": []
          },
          "execution_count": 4
        }
      ]
    },
    {
      "cell_type": "markdown",
      "metadata": {
        "id": "LaS5zT-VWgEE",
        "colab_type": "text"
      },
      "source": [
        "# Loading the file with the labels of different cars. "
      ]
    },
    {
      "cell_type": "code",
      "metadata": {
        "colab_type": "code",
        "id": "TRZCBNbkOvGU",
        "outputId": "840e794a-51b5-4756-c473-9e4318387ae3",
        "colab": {
          "base_uri": "https://localhost:8080/",
          "height": 51
        }
      },
      "source": [
        "path = \"/content/drive/My Drive/ObjectID_Stanford_Dataset/\"\n",
        "labels_without_years = pd.read_csv(path + \"wo_year_names.csv\", header=None, names=(['class_name']))\n",
        "print(labels_without_years.shape)\n",
        "print(labels_without_years['class_name'][49])"
      ],
      "execution_count": 0,
      "outputs": [
        {
          "output_type": "stream",
          "text": [
            "(196, 1)\n",
            "Buick Enclave SUV\n"
          ],
          "name": "stdout"
        }
      ]
    },
    {
      "cell_type": "markdown",
      "metadata": {
        "id": "jdP3dwJqXci1",
        "colab_type": "text"
      },
      "source": [
        "# Mounting Google Drive to Google Colab platform"
      ]
    },
    {
      "cell_type": "code",
      "metadata": {
        "colab_type": "code",
        "id": "LILOJ2vymcQt",
        "outputId": "3457cbba-766e-426c-e972-78bce2f3735a",
        "colab": {
          "base_uri": "https://localhost:8080/",
          "height": 34
        }
      },
      "source": [
        "from google.colab import drive\n",
        "drive.mount(\"/content/drive\", force_remount=True)\n",
        "#drive.mount('/content/drive')"
      ],
      "execution_count": 0,
      "outputs": [
        {
          "output_type": "stream",
          "text": [
            "Mounted at /content/drive\n"
          ],
          "name": "stdout"
        }
      ]
    },
    {
      "cell_type": "markdown",
      "metadata": {
        "id": "FZTM60fVXsUs",
        "colab_type": "text"
      },
      "source": [
        "# Load the tables containing the information about the training and testing data set from the given path. \n",
        "The table consist columns named \"Image_Name\", \"Box_x1\", \"Box_y1\", \"Box_x2\", \"Box_y2\", \"Car_Categories\".  "
      ]
    },
    {
      "cell_type": "code",
      "metadata": {
        "colab_type": "code",
        "id": "AubgFPqTQBpi",
        "outputId": "087b3f8e-a31a-45e5-c992-963333bc219f",
        "colab": {
          "base_uri": "https://localhost:8080/",
          "height": 499
        }
      },
      "source": [
        "import numpy as np\n",
        "training_data = pd.read_csv(path + \"anno_train.csv\", header = None)\n",
        "training_data.columns = ['Image_Name','Box_x1','Box_y1','Box_x2','Box_y2','Car_Categories']\n",
        "A = np.array(labels_without_years['class_name'].loc[training_data['Car_Categories']-1]).reshape(-1,1)\n",
        "training_data['class_name'] = A\n",
        "testing_data = pd.read_csv(path + \"anno_test.csv\", header = None)\n",
        "testing_data.columns = ['Image_Name','Box_x1','Box_y1','Box_x2','Box_y2','Car_Categories']\n",
        "A = np.array(labels_without_years['class_name'].loc[testing_data['Car_Categories']-1]).reshape(-1,1)\n",
        "testing_data['class_name'] = A\n",
        "print(training_data)\n",
        "print(testing_data)"
      ],
      "execution_count": 0,
      "outputs": [
        {
          "output_type": "stream",
          "text": [
            "     Image_Name  Box_x1  ...  Car_Categories                         class_name\n",
            "0     00001.jpg      39  ...              14                     Audi TTS Coupe\n",
            "1     00002.jpg      36  ...               3                     Acura TL Sedan\n",
            "2     00003.jpg      85  ...              91              Dodge Dakota Club Cab\n",
            "3     00004.jpg     621  ...             134        Hyundai Sonata Hybrid Sedan\n",
            "4     00005.jpg      14  ...             106     Ford F-450 Super Duty Crew Cab\n",
            "...         ...     ...  ...             ...                                ...\n",
            "8139  08140.jpg       3  ...              78  Chrysler Town and Country Minivan\n",
            "8140  08141.jpg     138  ...             196           smart fortwo Convertible\n",
            "8141  08142.jpg      26  ...             163       Mercedes-Benz SL-Class Coupe\n",
            "8142  08143.jpg      78  ...             112                      Ford GT Coupe\n",
            "8143  08144.jpg      20  ...              17                     Audi 100 Sedan\n",
            "\n",
            "[8144 rows x 7 columns]\n",
            "     Image_Name  Box_x1  ...  Car_Categories                      class_name\n",
            "0     00001.jpg      30  ...             181              Suzuki Aerio Sedan\n",
            "1     00002.jpg     100  ...             103  Ferrari 458 Italia Convertible\n",
            "2     00003.jpg      51  ...             145                Jeep Patriot SUV\n",
            "3     00004.jpg      67  ...             187              Toyota Camry Sedan\n",
            "4     00005.jpg     140  ...             185             Tesla Model S Sedan\n",
            "...         ...     ...  ...             ...                             ...\n",
            "8036  08037.jpg      49  ...              63           Chevrolet Sonic Sedan\n",
            "8037  08038.jpg      23  ...              16                   Audi V8 Sedan\n",
            "8038  08039.jpg      33  ...              17                  Audi 100 Sedan\n",
            "8039  08040.jpg      33  ...              38              BMW Z4 Convertible\n",
            "8040  08041.jpg      77  ...              32                      BMW X5 SUV\n",
            "\n",
            "[8041 rows x 7 columns]\n"
          ],
          "name": "stdout"
        }
      ]
    },
    {
      "cell_type": "markdown",
      "metadata": {
        "id": "aSHqsF5yaKma",
        "colab_type": "text"
      },
      "source": [
        "# Selecting the required car types from the tables.\n",
        "\n",
        "Making a table having the required columns."
      ]
    },
    {
      "cell_type": "code",
      "metadata": {
        "colab_type": "code",
        "id": "LARtqVAF75S4",
        "outputId": "afa13622-f669-4f65-ae4b-d80b90a56094",
        "colab": {
          "base_uri": "https://localhost:8080/",
          "height": 826
        }
      },
      "source": [
        "numb=4\n",
        "training_data = training_data.loc[training_data['Car_Categories'].isin(range(1,3))] # train_df in stanford_car notebook\n",
        "training_data['is_test'] = 0\n",
        "print(training_data)\n",
        "testing_data = testing_data.loc[testing_data['Car_Categories'].isin(range(1,3))] # test_df in stanford_car notebook\n",
        "testing_data['is_test'] = 1\n",
        "print(testing_data)\n",
        "\n",
        "# labels_df is defined exactly the same way as in stanford_car notebook\n",
        "\n",
        "frames = [training_data, testing_data]\n",
        "labels_df = pd.concat(frames)\n",
        "labels_df.reset_index(inplace=True, drop=True)\n",
        "labels_df = labels_df[['Image_Name','Box_x1','Box_y1','Box_x2','Box_y2','Car_Categories','class_name','is_test']]\n",
        "\n",
        "# adjust the test file names\n",
        "labels_df['Image_Name'].loc[labels_df['is_test']==1] = labels_df['Image_Name']\n",
        "\n",
        "# Add the cropped file names\n",
        "labels_df['filename_rename'] = labels_df['Image_Name'].copy()\n",
        "labels_df['filename_rename'].loc[labels_df['is_test']==1] = 'test_' + labels_df['Image_Name']\n",
        "\n",
        "print(labels_df)"
      ],
      "execution_count": 0,
      "outputs": [
        {
          "output_type": "stream",
          "text": [
            "     Image_Name  Box_x1  Box_y1  ...  Car_Categories             class_name  is_test\n",
            "162   00163.jpg      46      84  ...               1  AM General Hummer SUV        0\n",
            "461   00462.jpg       5       8  ...               1  AM General Hummer SUV        0\n",
            "521   00522.jpg       6       7  ...               1  AM General Hummer SUV        0\n",
            "669   00670.jpg      97      49  ...               2         Acura RL Sedan        0\n",
            "690   00691.jpg      84     189  ...               2         Acura RL Sedan        0\n",
            "...         ...     ...     ...  ...             ...                    ...      ...\n",
            "7896  07897.jpg      18     141  ...               2         Acura RL Sedan        0\n",
            "7959  07960.jpg       2      24  ...               2         Acura RL Sedan        0\n",
            "7965  07966.jpg      79     469  ...               1  AM General Hummer SUV        0\n",
            "8010  08011.jpg      10       6  ...               1  AM General Hummer SUV        0\n",
            "8030  08031.jpg      12      16  ...               1  AM General Hummer SUV        0\n",
            "\n",
            "[77 rows x 8 columns]\n",
            "     Image_Name  Box_x1  Box_y1  ...  Car_Categories             class_name  is_test\n",
            "75    00076.jpg      11      13  ...               1  AM General Hummer SUV        1\n",
            "182   00183.jpg      27      82  ...               2         Acura RL Sedan        1\n",
            "248   00249.jpg      28      27  ...               2         Acura RL Sedan        1\n",
            "346   00347.jpg      85      43  ...               2         Acura RL Sedan        1\n",
            "456   00457.jpg      31      20  ...               1  AM General Hummer SUV        1\n",
            "...         ...     ...     ...  ...             ...                    ...      ...\n",
            "7529  07530.jpg      70      94  ...               1  AM General Hummer SUV        1\n",
            "7840  07841.jpg     129     213  ...               2         Acura RL Sedan        1\n",
            "7916  07917.jpg      87       6  ...               1  AM General Hummer SUV        1\n",
            "7947  07948.jpg       5       4  ...               1  AM General Hummer SUV        1\n",
            "8034  08035.jpg      10      18  ...               1  AM General Hummer SUV        1\n",
            "\n",
            "[76 rows x 8 columns]\n",
            "    Image_Name  Box_x1  Box_y1  ...             class_name  is_test  filename_rename\n",
            "0    00163.jpg      46      84  ...  AM General Hummer SUV        0        00163.jpg\n",
            "1    00462.jpg       5       8  ...  AM General Hummer SUV        0        00462.jpg\n",
            "2    00522.jpg       6       7  ...  AM General Hummer SUV        0        00522.jpg\n",
            "3    00670.jpg      97      49  ...         Acura RL Sedan        0        00670.jpg\n",
            "4    00691.jpg      84     189  ...         Acura RL Sedan        0        00691.jpg\n",
            "..         ...     ...     ...  ...                    ...      ...              ...\n",
            "148  07530.jpg      70      94  ...  AM General Hummer SUV        1   test_07530.jpg\n",
            "149  07841.jpg     129     213  ...         Acura RL Sedan        1   test_07841.jpg\n",
            "150  07917.jpg      87       6  ...  AM General Hummer SUV        1   test_07917.jpg\n",
            "151  07948.jpg       5       4  ...  AM General Hummer SUV        1   test_07948.jpg\n",
            "152  08035.jpg      10      18  ...  AM General Hummer SUV        1   test_08035.jpg\n",
            "\n",
            "[153 rows x 9 columns]\n"
          ],
          "name": "stdout"
        },
        {
          "output_type": "stream",
          "text": [
            "/usr/local/lib/python3.6/dist-packages/pandas/core/indexing.py:205: SettingWithCopyWarning: \n",
            "A value is trying to be set on a copy of a slice from a DataFrame\n",
            "\n",
            "See the caveats in the documentation: http://pandas.pydata.org/pandas-docs/stable/user_guide/indexing.html#returning-a-view-versus-a-copy\n",
            "  self._setitem_with_indexer(indexer, value)\n"
          ],
          "name": "stderr"
        }
      ]
    },
    {
      "cell_type": "markdown",
      "metadata": {
        "id": "rcFoP_QkbThT",
        "colab_type": "text"
      },
      "source": [
        "# Counting the unique labels in the list. "
      ]
    },
    {
      "cell_type": "code",
      "metadata": {
        "colab_type": "code",
        "id": "mwDlm-WlaUpb",
        "outputId": "60160de8-653f-41a0-d693-6ad91b9b50c2",
        "colab": {
          "base_uri": "https://localhost:8080/",
          "height": 34
        }
      },
      "source": [
        "labels_df['filename_rename'].nunique(), labels_df['class_name'].nunique()"
      ],
      "execution_count": 0,
      "outputs": [
        {
          "output_type": "execute_result",
          "data": {
            "text/plain": [
              "(153, 2)"
            ]
          },
          "metadata": {
            "tags": []
          },
          "execution_count": 169
        }
      ]
    },
    {
      "cell_type": "markdown",
      "metadata": {
        "id": "ywYVcNU7cNS-",
        "colab_type": "text"
      },
      "source": [
        "# Finding the height and width of the images using bounding box coordinates."
      ]
    },
    {
      "cell_type": "code",
      "metadata": {
        "colab_type": "code",
        "id": "YNloa3d6aloL",
        "outputId": "7ce167c2-9678-4e02-e865-42fc9b6c96a8",
        "colab": {
          "base_uri": "https://localhost:8080/",
          "height": 201
        }
      },
      "source": [
        "#labels_df['bb_xy'] = tuple(labels_df[col] for col in ['bbox_x1','bbox_y1'])\n",
        "labels_df['Box_h'] = (labels_df['Box_y2'] - labels_df['Box_y1'])\n",
        "labels_df['Box_w'] = (labels_df['Box_x2'] - labels_df['Box_x1'])\n",
        "labels_df.head()"
      ],
      "execution_count": 0,
      "outputs": [
        {
          "output_type": "execute_result",
          "data": {
            "text/html": [
              "<div>\n",
              "<style scoped>\n",
              "    .dataframe tbody tr th:only-of-type {\n",
              "        vertical-align: middle;\n",
              "    }\n",
              "\n",
              "    .dataframe tbody tr th {\n",
              "        vertical-align: top;\n",
              "    }\n",
              "\n",
              "    .dataframe thead th {\n",
              "        text-align: right;\n",
              "    }\n",
              "</style>\n",
              "<table border=\"1\" class=\"dataframe\">\n",
              "  <thead>\n",
              "    <tr style=\"text-align: right;\">\n",
              "      <th></th>\n",
              "      <th>Image_Name</th>\n",
              "      <th>Box_x1</th>\n",
              "      <th>Box_y1</th>\n",
              "      <th>Box_x2</th>\n",
              "      <th>Box_y2</th>\n",
              "      <th>Car_Categories</th>\n",
              "      <th>class_name</th>\n",
              "      <th>is_test</th>\n",
              "      <th>filename_rename</th>\n",
              "      <th>Box_h</th>\n",
              "      <th>Box_w</th>\n",
              "    </tr>\n",
              "  </thead>\n",
              "  <tbody>\n",
              "    <tr>\n",
              "      <th>0</th>\n",
              "      <td>00001.jpg</td>\n",
              "      <td>39</td>\n",
              "      <td>116</td>\n",
              "      <td>569</td>\n",
              "      <td>375</td>\n",
              "      <td>14</td>\n",
              "      <td>Audi TTS Coupe</td>\n",
              "      <td>0</td>\n",
              "      <td>00001.jpg</td>\n",
              "      <td>259</td>\n",
              "      <td>530</td>\n",
              "    </tr>\n",
              "    <tr>\n",
              "      <th>1</th>\n",
              "      <td>00002.jpg</td>\n",
              "      <td>36</td>\n",
              "      <td>116</td>\n",
              "      <td>868</td>\n",
              "      <td>587</td>\n",
              "      <td>3</td>\n",
              "      <td>Acura TL Sedan</td>\n",
              "      <td>0</td>\n",
              "      <td>00002.jpg</td>\n",
              "      <td>471</td>\n",
              "      <td>832</td>\n",
              "    </tr>\n",
              "    <tr>\n",
              "      <th>2</th>\n",
              "      <td>00010.jpg</td>\n",
              "      <td>21</td>\n",
              "      <td>110</td>\n",
              "      <td>623</td>\n",
              "      <td>367</td>\n",
              "      <td>58</td>\n",
              "      <td>Chevrolet Traverse SUV</td>\n",
              "      <td>0</td>\n",
              "      <td>00010.jpg</td>\n",
              "      <td>257</td>\n",
              "      <td>602</td>\n",
              "    </tr>\n",
              "    <tr>\n",
              "      <th>3</th>\n",
              "      <td>00011.jpg</td>\n",
              "      <td>51</td>\n",
              "      <td>93</td>\n",
              "      <td>601</td>\n",
              "      <td>393</td>\n",
              "      <td>49</td>\n",
              "      <td>Buick Verano Sedan</td>\n",
              "      <td>0</td>\n",
              "      <td>00011.jpg</td>\n",
              "      <td>300</td>\n",
              "      <td>550</td>\n",
              "    </tr>\n",
              "    <tr>\n",
              "      <th>4</th>\n",
              "      <td>00017.jpg</td>\n",
              "      <td>39</td>\n",
              "      <td>52</td>\n",
              "      <td>233</td>\n",
              "      <td>150</td>\n",
              "      <td>14</td>\n",
              "      <td>Audi TTS Coupe</td>\n",
              "      <td>0</td>\n",
              "      <td>00017.jpg</td>\n",
              "      <td>98</td>\n",
              "      <td>194</td>\n",
              "    </tr>\n",
              "  </tbody>\n",
              "</table>\n",
              "</div>"
            ],
            "text/plain": [
              "  Image_Name  Box_x1  Box_y1  Box_x2  ...  is_test  filename_rename Box_h  Box_w\n",
              "0  00001.jpg      39     116     569  ...        0        00001.jpg   259    530\n",
              "1  00002.jpg      36     116     868  ...        0        00002.jpg   471    832\n",
              "2  00010.jpg      21     110     623  ...        0        00010.jpg   257    602\n",
              "3  00011.jpg      51      93     601  ...        0        00011.jpg   300    550\n",
              "4  00017.jpg      39      52     233  ...        0        00017.jpg    98    194\n",
              "\n",
              "[5 rows x 11 columns]"
            ]
          },
          "metadata": {
            "tags": []
          },
          "execution_count": 10
        }
      ]
    },
    {
      "cell_type": "code",
      "metadata": {
        "colab_type": "code",
        "id": "yOyA32CYbP_S",
        "outputId": "d4080243-1389-49fa-cb76-a778d55393ea",
        "colab": {
          "base_uri": "https://localhost:8080/",
          "height": 172
        }
      },
      "source": [
        "bb_hw = labels_df[['Box_x1', 'Box_y1','Box_h', 'Box_w']].values\n",
        "hw_bb = labels_df[['Box_h', 'Box_w', 'Box_x1', 'Box_y1']].values\n",
        "bb_hw"
      ],
      "execution_count": 0,
      "outputs": [
        {
          "output_type": "execute_result",
          "data": {
            "text/plain": [
              "array([[ 39, 116, 259, 530],\n",
              "       [ 36, 116, 471, 832],\n",
              "       [ 21, 110, 257, 602],\n",
              "       [ 51,  93, 300, 550],\n",
              "       ...,\n",
              "       [ 23,  18, 441, 617],\n",
              "       [ 33,  27, 225, 569],\n",
              "       [ 33, 142, 234, 488],\n",
              "       [ 77,  73, 307, 429]])"
            ]
          },
          "metadata": {
            "tags": []
          },
          "execution_count": 11
        }
      ]
    },
    {
      "cell_type": "markdown",
      "metadata": {
        "id": "9hVBY2usglDV",
        "colab_type": "text"
      },
      "source": [
        "# Making a single folder for each training and testing set of images."
      ]
    },
    {
      "cell_type": "code",
      "metadata": {
        "colab_type": "code",
        "id": "uQdwGGQFrI6j",
        "outputId": "f2909be9-1968-4e45-8ded-ce0c101980de",
        "colab": {
          "base_uri": "https://localhost:8080/",
          "height": 1000
        }
      },
      "source": [
        "import numpy as np\n",
        "import matplotlib.pyplot as plt\n",
        "import os\n",
        "import shutil   \n",
        "\n",
        "DATADIR = \"/content/drive/My Drive/ObjectID_Stanford_Dataset/car_data/test/\"\n",
        "DATADIR1 = \"/content/drive/My Drive/ObjectID_Stanford_Dataset/car_data/test/\"\n",
        "\n",
        "#CATEGORIES = labels_without_years['Car Names']\n",
        "CATEGORIES = np.array([labels_without_years['class_name'][i] for i in range(120,196)])\n",
        "print(CATEGORIES.shape)\n",
        "\n",
        "source = DATADIR\n",
        "destination = DATADIR1 + \"Testing_Set_3/\"\n",
        "\n",
        "image_list = []\n",
        "IMG_SIZE = 160\n",
        "i = 0\n",
        "    \n",
        "for category in CATEGORIES:  # do dogs and cats\n",
        "    print(category)\n",
        "    path = os.path.join(DATADIR,category)  # create path to dogs and cats\n",
        "    i = i+1\n",
        "    for img in os.listdir(path):  # iterate over each image per dogs and cats\n",
        "        shutil.copy(source+category+'/'+img, destination + 'test_'+img) "
      ],
      "execution_count": 0,
      "outputs": [
        {
          "output_type": "stream",
          "text": [
            "(76,)\n",
            "GMC Acadia SUV\n",
            "GMC Canyon Extended Cab\n",
            "Geo Metro Convertible\n",
            "HUMMER H3T Crew Cab\n",
            "HUMMER H2 SUT Crew Cab\n",
            "Honda Odyssey Minivan 1\n",
            "Honda Odyssey Minivan 2\n",
            "Honda Accord Coupe\n",
            "Honda Accord Sedan\n",
            "Hyundai Veloster Hatchback\n",
            "Hyundai Santa Fe SUV\n",
            "Hyundai Tucson SUV\n",
            "Hyundai Veracruz SUV\n",
            "Hyundai Sonata Hybrid Sedan\n",
            "Hyundai Elantra Sedan\n",
            "Hyundai Accent Sedan\n",
            "Hyundai Genesis Sedan\n",
            "Hyundai Sonata Sedan\n",
            "Hyundai Elantra Touring Hatchback\n",
            "Hyundai Azera Sedan\n",
            "Infiniti G Coupe IPL\n",
            "Infiniti QX56 SUV\n",
            "Isuzu Ascender SUV\n",
            "Jaguar XK XKR\n",
            "Jeep Patriot SUV\n",
            "Jeep Wrangler SUV\n",
            "Jeep Liberty SUV\n",
            "Jeep Grand Cherokee SUV\n",
            "Jeep Compass SUV\n",
            "Lamborghini Reventon Coupe\n",
            "Lamborghini Aventador Coupe\n",
            "Lamborghini Gallardo LP 570-4 Superleggera\n",
            "Lamborghini Diablo Coupe\n",
            "Land Rover Range Rover SUV\n",
            "Land Rover LR2 SUV\n",
            "Lincoln Town Car Sedan\n",
            "MINI Cooper Roadster Convertible\n",
            "Maybach Landaulet Convertible\n",
            "Mazda Tribute SUV\n",
            "McLaren MP4-12C Coupe\n",
            "Mercedes-Benz 300-Class Convertible\n",
            "Mercedes-Benz C-Class Sedan\n",
            "Mercedes-Benz SL-Class Coupe\n",
            "Mercedes-Benz E-Class Sedan\n",
            "Mercedes-Benz S-Class Sedan\n",
            "Mercedes-Benz Sprinter Van\n",
            "Mitsubishi Lancer Sedan\n",
            "Nissan Leaf Hatchback\n",
            "Nissan NV Passenger Van\n",
            "Nissan Juke Hatchback\n",
            "Nissan 240SX Coupe\n",
            "Plymouth Neon Coupe\n",
            "Porsche Panamera Sedan\n",
            "Ram C-V Cargo Van Minivan\n",
            "Rolls-Royce Phantom Drophead Coupe Convertible\n",
            "Rolls-Royce Ghost Sedan\n",
            "Rolls-Royce Phantom Sedan\n",
            "Scion xD Hatchback\n",
            "Spyker C8 Convertible\n",
            "Spyker C8 Coupe\n",
            "Suzuki Aerio Sedan\n",
            "Suzuki Kizashi Sedan\n",
            "Suzuki SX4 Hatchback\n",
            "Suzuki SX4 Sedan\n",
            "Tesla Model S Sedan\n",
            "Toyota Sequoia SUV\n",
            "Toyota Camry Sedan\n",
            "Toyota Corolla Sedan\n",
            "Toyota 4Runner SUV\n",
            "Volkswagen Golf Hatchback 1\n",
            "Volkswagen Golf Hatchback 2\n",
            "Volkswagen Beetle Hatchback\n",
            "Volvo C30 Hatchback\n",
            "Volvo 240 Sedan\n",
            "Volvo XC90 SUV\n",
            "smart fortwo Convertible\n"
          ],
          "name": "stdout"
        }
      ]
    },
    {
      "cell_type": "markdown",
      "metadata": {
        "id": "vtVozMpliWf1",
        "colab_type": "text"
      },
      "source": [
        "# Calling ResNet152 architecture of neural network for training the machine to identify objects. "
      ]
    },
    {
      "cell_type": "code",
      "metadata": {
        "colab_type": "code",
        "id": "ZbY9mJaa8W3q",
        "colab": {}
      },
      "source": [
        "arch = models.resnet152"
      ],
      "execution_count": 0,
      "outputs": []
    },
    {
      "cell_type": "markdown",
      "metadata": {
        "id": "5Lo5fN3yjBP-",
        "colab_type": "text"
      },
      "source": [
        "# Split the training images transfered into a single folder into training and validation set."
      ]
    },
    {
      "cell_type": "code",
      "metadata": {
        "colab_type": "code",
        "id": "Aw11zwuGCs3s",
        "outputId": "6539d6ab-42bc-4109-eb29-da757d4f617d",
        "colab": {
          "base_uri": "https://localhost:8080/",
          "height": 396
        }
      },
      "source": [
        "SZ = 224\n",
        "SEED = 42\n",
        "LABEL = 'class_name'\n",
        "path = \"/content/drive/My Drive/ObjectID_Stanford_Dataset/\"\n",
        "\n",
        "car_tfms = get_transforms()\n",
        "\n",
        "trn_labels_df = labels_df.loc[labels_df['is_test']==0, ['Image_Name', 'class_name', 'Car_Categories', 'filename_rename']].copy()\n",
        "\n",
        "src = (ImageList.from_df(trn_labels_df, path + 'car_data/' , folder='train/Training_Set', cols='filename_rename')\n",
        "                    .split_by_rand_pct(valid_pct=0.2, seed=SEED)\n",
        "                    .label_from_df(cols=LABEL))\n",
        "\n",
        "data = (src.transform(car_tfms, size=SZ)\n",
        "            .databunch()\n",
        "            .normalize(imagenet_stats))\n",
        "\n",
        "print(trn_labels_df.shape)\n",
        "print(data)"
      ],
      "execution_count": 0,
      "outputs": [
        {
          "output_type": "stream",
          "text": [
            "You can deactivate this warning by passing `no_check=True`.\n",
            "(77, 4)\n",
            "ImageDataBunch;\n",
            "\n",
            "Train: LabelList (62 items)\n",
            "x: ImageList\n",
            "Image (3, 224, 224),Image (3, 224, 224),Image (3, 224, 224),Image (3, 224, 224),Image (3, 224, 224)\n",
            "y: CategoryList\n",
            "AM General Hummer SUV,AM General Hummer SUV,Acura RL Sedan,AM General Hummer SUV,AM General Hummer SUV\n",
            "Path: /content/drive/My Drive/ObjectID_Stanford_Dataset/car_data;\n",
            "\n",
            "Valid: LabelList (15 items)\n",
            "x: ImageList\n",
            "Image (3, 224, 224),Image (3, 224, 224),Image (3, 224, 224),Image (3, 224, 224),Image (3, 224, 224)\n",
            "y: CategoryList\n",
            "Acura RL Sedan,Acura RL Sedan,Acura RL Sedan,AM General Hummer SUV,AM General Hummer SUV\n",
            "Path: /content/drive/My Drive/ObjectID_Stanford_Dataset/car_data;\n",
            "\n",
            "Test: None\n"
          ],
          "name": "stdout"
        },
        {
          "output_type": "stream",
          "text": [
            "/usr/local/lib/python3.6/dist-packages/fastai/basic_data.py:248: UserWarning: Your training dataloader is empty, you have only 62 items in your training set.\n",
            "                 Your batch size is 64, you should lower it.\n",
            "  Your batch size is {self.train_dl.batch_size}, you should lower it.\"\"\")\n"
          ],
          "name": "stderr"
        }
      ]
    },
    {
      "cell_type": "markdown",
      "metadata": {
        "id": "2NZuR030kCEi",
        "colab_type": "text"
      },
      "source": [
        "# Defining the batch size for training images while inputing into the model."
      ]
    },
    {
      "cell_type": "code",
      "metadata": {
        "colab_type": "code",
        "id": "fuCPRsqv8yk5",
        "outputId": "222f329f-7d34-48d5-cf38-36fc445e1bf0",
        "colab": {
          "base_uri": "https://localhost:8080/",
          "height": 34
        }
      },
      "source": [
        "data.batch_size = 32\n",
        "data.batch_size"
      ],
      "execution_count": 0,
      "outputs": [
        {
          "output_type": "execute_result",
          "data": {
            "text/plain": [
              "32"
            ]
          },
          "metadata": {
            "tags": []
          },
          "execution_count": 173
        }
      ]
    },
    {
      "cell_type": "markdown",
      "metadata": {
        "id": "2Qwycl8YkdDW",
        "colab_type": "text"
      },
      "source": [
        "# Compiling the ResNet model."
      ]
    },
    {
      "cell_type": "code",
      "metadata": {
        "colab_type": "code",
        "id": "JF4yxKES87Cm",
        "colab": {}
      },
      "source": [
        "learn = cnn_learner(data, arch, metrics=[accuracy])"
      ],
      "execution_count": 0,
      "outputs": []
    },
    {
      "cell_type": "code",
      "metadata": {
        "colab_type": "code",
        "id": "Ik5SHY9O9AmO",
        "outputId": "3b2874e7-0f74-4cea-8828-2ce803ebebd9",
        "colab": {
          "base_uri": "https://localhost:8080/",
          "height": 1000
        }
      },
      "source": [
        "learn.lr_find()\n",
        "learn.recorder.plot()"
      ],
      "execution_count": 0,
      "outputs": [
        {
          "output_type": "display_data",
          "data": {
            "text/html": [
              "\n",
              "    <div>\n",
              "        <style>\n",
              "            /* Turns off some styling */\n",
              "            progress {\n",
              "                /* gets rid of default border in Firefox and Opera. */\n",
              "                border: none;\n",
              "                /* Needs to be in here for Safari polyfill so background images work as expected. */\n",
              "                background-size: auto;\n",
              "            }\n",
              "            .progress-bar-interrupted, .progress-bar-interrupted::-webkit-progress-bar {\n",
              "                background: #F44336;\n",
              "            }\n",
              "        </style>\n",
              "      <progress value='88' class='' max='100', style='width:300px; height:20px; vertical-align: middle;'></progress>\n",
              "      88.00% [88/100 01:51<00:15]\n",
              "    </div>\n",
              "    \n",
              "<table border=\"1\" class=\"dataframe\">\n",
              "  <thead>\n",
              "    <tr style=\"text-align: left;\">\n",
              "      <th>epoch</th>\n",
              "      <th>train_loss</th>\n",
              "      <th>valid_loss</th>\n",
              "      <th>accuracy</th>\n",
              "      <th>time</th>\n",
              "    </tr>\n",
              "  </thead>\n",
              "  <tbody>\n",
              "    <tr>\n",
              "      <td>0</td>\n",
              "      <td>1.098460</td>\n",
              "      <td>#na#</td>\n",
              "      <td>00:01</td>\n",
              "    </tr>\n",
              "    <tr>\n",
              "      <td>1</td>\n",
              "      <td>1.110793</td>\n",
              "      <td>#na#</td>\n",
              "      <td>00:01</td>\n",
              "    </tr>\n",
              "    <tr>\n",
              "      <td>2</td>\n",
              "      <td>1.142403</td>\n",
              "      <td>#na#</td>\n",
              "      <td>00:01</td>\n",
              "    </tr>\n",
              "    <tr>\n",
              "      <td>3</td>\n",
              "      <td>1.165122</td>\n",
              "      <td>#na#</td>\n",
              "      <td>00:01</td>\n",
              "    </tr>\n",
              "    <tr>\n",
              "      <td>4</td>\n",
              "      <td>1.092433</td>\n",
              "      <td>#na#</td>\n",
              "      <td>00:01</td>\n",
              "    </tr>\n",
              "    <tr>\n",
              "      <td>5</td>\n",
              "      <td>1.092581</td>\n",
              "      <td>#na#</td>\n",
              "      <td>00:01</td>\n",
              "    </tr>\n",
              "    <tr>\n",
              "      <td>6</td>\n",
              "      <td>1.196764</td>\n",
              "      <td>#na#</td>\n",
              "      <td>00:01</td>\n",
              "    </tr>\n",
              "    <tr>\n",
              "      <td>7</td>\n",
              "      <td>1.223241</td>\n",
              "      <td>#na#</td>\n",
              "      <td>00:01</td>\n",
              "    </tr>\n",
              "    <tr>\n",
              "      <td>8</td>\n",
              "      <td>1.231401</td>\n",
              "      <td>#na#</td>\n",
              "      <td>00:01</td>\n",
              "    </tr>\n",
              "    <tr>\n",
              "      <td>9</td>\n",
              "      <td>1.243309</td>\n",
              "      <td>#na#</td>\n",
              "      <td>00:01</td>\n",
              "    </tr>\n",
              "    <tr>\n",
              "      <td>10</td>\n",
              "      <td>1.260704</td>\n",
              "      <td>#na#</td>\n",
              "      <td>00:01</td>\n",
              "    </tr>\n",
              "    <tr>\n",
              "      <td>11</td>\n",
              "      <td>1.253676</td>\n",
              "      <td>#na#</td>\n",
              "      <td>00:01</td>\n",
              "    </tr>\n",
              "    <tr>\n",
              "      <td>12</td>\n",
              "      <td>1.275271</td>\n",
              "      <td>#na#</td>\n",
              "      <td>00:01</td>\n",
              "    </tr>\n",
              "    <tr>\n",
              "      <td>13</td>\n",
              "      <td>1.276112</td>\n",
              "      <td>#na#</td>\n",
              "      <td>00:01</td>\n",
              "    </tr>\n",
              "    <tr>\n",
              "      <td>14</td>\n",
              "      <td>1.241268</td>\n",
              "      <td>#na#</td>\n",
              "      <td>00:01</td>\n",
              "    </tr>\n",
              "    <tr>\n",
              "      <td>15</td>\n",
              "      <td>1.222685</td>\n",
              "      <td>#na#</td>\n",
              "      <td>00:01</td>\n",
              "    </tr>\n",
              "    <tr>\n",
              "      <td>16</td>\n",
              "      <td>1.230602</td>\n",
              "      <td>#na#</td>\n",
              "      <td>00:01</td>\n",
              "    </tr>\n",
              "    <tr>\n",
              "      <td>17</td>\n",
              "      <td>1.238757</td>\n",
              "      <td>#na#</td>\n",
              "      <td>00:01</td>\n",
              "    </tr>\n",
              "    <tr>\n",
              "      <td>18</td>\n",
              "      <td>1.222850</td>\n",
              "      <td>#na#</td>\n",
              "      <td>00:01</td>\n",
              "    </tr>\n",
              "    <tr>\n",
              "      <td>19</td>\n",
              "      <td>1.257840</td>\n",
              "      <td>#na#</td>\n",
              "      <td>00:01</td>\n",
              "    </tr>\n",
              "    <tr>\n",
              "      <td>20</td>\n",
              "      <td>1.261962</td>\n",
              "      <td>#na#</td>\n",
              "      <td>00:01</td>\n",
              "    </tr>\n",
              "    <tr>\n",
              "      <td>21</td>\n",
              "      <td>1.272293</td>\n",
              "      <td>#na#</td>\n",
              "      <td>00:01</td>\n",
              "    </tr>\n",
              "    <tr>\n",
              "      <td>22</td>\n",
              "      <td>1.260890</td>\n",
              "      <td>#na#</td>\n",
              "      <td>00:01</td>\n",
              "    </tr>\n",
              "    <tr>\n",
              "      <td>23</td>\n",
              "      <td>1.253800</td>\n",
              "      <td>#na#</td>\n",
              "      <td>00:01</td>\n",
              "    </tr>\n",
              "    <tr>\n",
              "      <td>24</td>\n",
              "      <td>1.252469</td>\n",
              "      <td>#na#</td>\n",
              "      <td>00:01</td>\n",
              "    </tr>\n",
              "    <tr>\n",
              "      <td>25</td>\n",
              "      <td>1.244122</td>\n",
              "      <td>#na#</td>\n",
              "      <td>00:01</td>\n",
              "    </tr>\n",
              "    <tr>\n",
              "      <td>26</td>\n",
              "      <td>1.226625</td>\n",
              "      <td>#na#</td>\n",
              "      <td>00:01</td>\n",
              "    </tr>\n",
              "    <tr>\n",
              "      <td>27</td>\n",
              "      <td>1.232643</td>\n",
              "      <td>#na#</td>\n",
              "      <td>00:01</td>\n",
              "    </tr>\n",
              "    <tr>\n",
              "      <td>28</td>\n",
              "      <td>1.232357</td>\n",
              "      <td>#na#</td>\n",
              "      <td>00:01</td>\n",
              "    </tr>\n",
              "    <tr>\n",
              "      <td>29</td>\n",
              "      <td>1.222148</td>\n",
              "      <td>#na#</td>\n",
              "      <td>00:01</td>\n",
              "    </tr>\n",
              "    <tr>\n",
              "      <td>30</td>\n",
              "      <td>1.201053</td>\n",
              "      <td>#na#</td>\n",
              "      <td>00:01</td>\n",
              "    </tr>\n",
              "    <tr>\n",
              "      <td>31</td>\n",
              "      <td>1.181678</td>\n",
              "      <td>#na#</td>\n",
              "      <td>00:01</td>\n",
              "    </tr>\n",
              "    <tr>\n",
              "      <td>32</td>\n",
              "      <td>1.156557</td>\n",
              "      <td>#na#</td>\n",
              "      <td>00:01</td>\n",
              "    </tr>\n",
              "    <tr>\n",
              "      <td>33</td>\n",
              "      <td>1.140407</td>\n",
              "      <td>#na#</td>\n",
              "      <td>00:01</td>\n",
              "    </tr>\n",
              "    <tr>\n",
              "      <td>34</td>\n",
              "      <td>1.109009</td>\n",
              "      <td>#na#</td>\n",
              "      <td>00:01</td>\n",
              "    </tr>\n",
              "    <tr>\n",
              "      <td>35</td>\n",
              "      <td>1.081188</td>\n",
              "      <td>#na#</td>\n",
              "      <td>00:01</td>\n",
              "    </tr>\n",
              "    <tr>\n",
              "      <td>36</td>\n",
              "      <td>1.059395</td>\n",
              "      <td>#na#</td>\n",
              "      <td>00:01</td>\n",
              "    </tr>\n",
              "    <tr>\n",
              "      <td>37</td>\n",
              "      <td>1.032807</td>\n",
              "      <td>#na#</td>\n",
              "      <td>00:01</td>\n",
              "    </tr>\n",
              "    <tr>\n",
              "      <td>38</td>\n",
              "      <td>1.003940</td>\n",
              "      <td>#na#</td>\n",
              "      <td>00:01</td>\n",
              "    </tr>\n",
              "    <tr>\n",
              "      <td>39</td>\n",
              "      <td>0.982441</td>\n",
              "      <td>#na#</td>\n",
              "      <td>00:01</td>\n",
              "    </tr>\n",
              "    <tr>\n",
              "      <td>40</td>\n",
              "      <td>0.948647</td>\n",
              "      <td>#na#</td>\n",
              "      <td>00:01</td>\n",
              "    </tr>\n",
              "    <tr>\n",
              "      <td>41</td>\n",
              "      <td>0.916686</td>\n",
              "      <td>#na#</td>\n",
              "      <td>00:01</td>\n",
              "    </tr>\n",
              "    <tr>\n",
              "      <td>42</td>\n",
              "      <td>0.886354</td>\n",
              "      <td>#na#</td>\n",
              "      <td>00:01</td>\n",
              "    </tr>\n",
              "    <tr>\n",
              "      <td>43</td>\n",
              "      <td>0.859885</td>\n",
              "      <td>#na#</td>\n",
              "      <td>00:01</td>\n",
              "    </tr>\n",
              "    <tr>\n",
              "      <td>44</td>\n",
              "      <td>0.832616</td>\n",
              "      <td>#na#</td>\n",
              "      <td>00:01</td>\n",
              "    </tr>\n",
              "    <tr>\n",
              "      <td>45</td>\n",
              "      <td>0.807920</td>\n",
              "      <td>#na#</td>\n",
              "      <td>00:01</td>\n",
              "    </tr>\n",
              "    <tr>\n",
              "      <td>46</td>\n",
              "      <td>0.783644</td>\n",
              "      <td>#na#</td>\n",
              "      <td>00:01</td>\n",
              "    </tr>\n",
              "    <tr>\n",
              "      <td>47</td>\n",
              "      <td>0.758460</td>\n",
              "      <td>#na#</td>\n",
              "      <td>00:01</td>\n",
              "    </tr>\n",
              "    <tr>\n",
              "      <td>48</td>\n",
              "      <td>0.734364</td>\n",
              "      <td>#na#</td>\n",
              "      <td>00:01</td>\n",
              "    </tr>\n",
              "    <tr>\n",
              "      <td>49</td>\n",
              "      <td>0.711275</td>\n",
              "      <td>#na#</td>\n",
              "      <td>00:01</td>\n",
              "    </tr>\n",
              "    <tr>\n",
              "      <td>50</td>\n",
              "      <td>0.689223</td>\n",
              "      <td>#na#</td>\n",
              "      <td>00:01</td>\n",
              "    </tr>\n",
              "    <tr>\n",
              "      <td>51</td>\n",
              "      <td>0.668137</td>\n",
              "      <td>#na#</td>\n",
              "      <td>00:01</td>\n",
              "    </tr>\n",
              "    <tr>\n",
              "      <td>52</td>\n",
              "      <td>0.647805</td>\n",
              "      <td>#na#</td>\n",
              "      <td>00:01</td>\n",
              "    </tr>\n",
              "    <tr>\n",
              "      <td>53</td>\n",
              "      <td>0.628310</td>\n",
              "      <td>#na#</td>\n",
              "      <td>00:01</td>\n",
              "    </tr>\n",
              "    <tr>\n",
              "      <td>54</td>\n",
              "      <td>0.609578</td>\n",
              "      <td>#na#</td>\n",
              "      <td>00:01</td>\n",
              "    </tr>\n",
              "    <tr>\n",
              "      <td>55</td>\n",
              "      <td>0.591582</td>\n",
              "      <td>#na#</td>\n",
              "      <td>00:01</td>\n",
              "    </tr>\n",
              "    <tr>\n",
              "      <td>56</td>\n",
              "      <td>0.574281</td>\n",
              "      <td>#na#</td>\n",
              "      <td>00:01</td>\n",
              "    </tr>\n",
              "    <tr>\n",
              "      <td>57</td>\n",
              "      <td>0.557640</td>\n",
              "      <td>#na#</td>\n",
              "      <td>00:01</td>\n",
              "    </tr>\n",
              "    <tr>\n",
              "      <td>58</td>\n",
              "      <td>0.541624</td>\n",
              "      <td>#na#</td>\n",
              "      <td>00:01</td>\n",
              "    </tr>\n",
              "    <tr>\n",
              "      <td>59</td>\n",
              "      <td>0.526203</td>\n",
              "      <td>#na#</td>\n",
              "      <td>00:01</td>\n",
              "    </tr>\n",
              "    <tr>\n",
              "      <td>60</td>\n",
              "      <td>0.511347</td>\n",
              "      <td>#na#</td>\n",
              "      <td>00:01</td>\n",
              "    </tr>\n",
              "    <tr>\n",
              "      <td>61</td>\n",
              "      <td>0.497028</td>\n",
              "      <td>#na#</td>\n",
              "      <td>00:01</td>\n",
              "    </tr>\n",
              "    <tr>\n",
              "      <td>62</td>\n",
              "      <td>0.483222</td>\n",
              "      <td>#na#</td>\n",
              "      <td>00:01</td>\n",
              "    </tr>\n",
              "    <tr>\n",
              "      <td>63</td>\n",
              "      <td>0.469902</td>\n",
              "      <td>#na#</td>\n",
              "      <td>00:01</td>\n",
              "    </tr>\n",
              "    <tr>\n",
              "      <td>64</td>\n",
              "      <td>0.457046</td>\n",
              "      <td>#na#</td>\n",
              "      <td>00:01</td>\n",
              "    </tr>\n",
              "    <tr>\n",
              "      <td>65</td>\n",
              "      <td>0.444634</td>\n",
              "      <td>#na#</td>\n",
              "      <td>00:01</td>\n",
              "    </tr>\n",
              "    <tr>\n",
              "      <td>66</td>\n",
              "      <td>0.432644</td>\n",
              "      <td>#na#</td>\n",
              "      <td>00:01</td>\n",
              "    </tr>\n",
              "    <tr>\n",
              "      <td>67</td>\n",
              "      <td>0.421058</td>\n",
              "      <td>#na#</td>\n",
              "      <td>00:01</td>\n",
              "    </tr>\n",
              "    <tr>\n",
              "      <td>68</td>\n",
              "      <td>0.409858</td>\n",
              "      <td>#na#</td>\n",
              "      <td>00:01</td>\n",
              "    </tr>\n",
              "    <tr>\n",
              "      <td>69</td>\n",
              "      <td>0.399028</td>\n",
              "      <td>#na#</td>\n",
              "      <td>00:01</td>\n",
              "    </tr>\n",
              "    <tr>\n",
              "      <td>70</td>\n",
              "      <td>0.388551</td>\n",
              "      <td>#na#</td>\n",
              "      <td>00:01</td>\n",
              "    </tr>\n",
              "    <tr>\n",
              "      <td>71</td>\n",
              "      <td>0.378415</td>\n",
              "      <td>#na#</td>\n",
              "      <td>00:01</td>\n",
              "    </tr>\n",
              "    <tr>\n",
              "      <td>72</td>\n",
              "      <td>0.368601</td>\n",
              "      <td>#na#</td>\n",
              "      <td>00:01</td>\n",
              "    </tr>\n",
              "    <tr>\n",
              "      <td>73</td>\n",
              "      <td>0.359099</td>\n",
              "      <td>#na#</td>\n",
              "      <td>00:01</td>\n",
              "    </tr>\n",
              "    <tr>\n",
              "      <td>74</td>\n",
              "      <td>0.349894</td>\n",
              "      <td>#na#</td>\n",
              "      <td>00:01</td>\n",
              "    </tr>\n",
              "    <tr>\n",
              "      <td>75</td>\n",
              "      <td>0.341031</td>\n",
              "      <td>#na#</td>\n",
              "      <td>00:01</td>\n",
              "    </tr>\n",
              "    <tr>\n",
              "      <td>76</td>\n",
              "      <td>0.332389</td>\n",
              "      <td>#na#</td>\n",
              "      <td>00:01</td>\n",
              "    </tr>\n",
              "    <tr>\n",
              "      <td>77</td>\n",
              "      <td>0.324008</td>\n",
              "      <td>#na#</td>\n",
              "      <td>00:01</td>\n",
              "    </tr>\n",
              "    <tr>\n",
              "      <td>78</td>\n",
              "      <td>0.315882</td>\n",
              "      <td>#na#</td>\n",
              "      <td>00:01</td>\n",
              "    </tr>\n",
              "    <tr>\n",
              "      <td>79</td>\n",
              "      <td>0.307998</td>\n",
              "      <td>#na#</td>\n",
              "      <td>00:01</td>\n",
              "    </tr>\n",
              "    <tr>\n",
              "      <td>80</td>\n",
              "      <td>0.300349</td>\n",
              "      <td>#na#</td>\n",
              "      <td>00:01</td>\n",
              "    </tr>\n",
              "    <tr>\n",
              "      <td>81</td>\n",
              "      <td>0.292926</td>\n",
              "      <td>#na#</td>\n",
              "      <td>00:01</td>\n",
              "    </tr>\n",
              "    <tr>\n",
              "      <td>82</td>\n",
              "      <td>0.285720</td>\n",
              "      <td>#na#</td>\n",
              "      <td>00:01</td>\n",
              "    </tr>\n",
              "    <tr>\n",
              "      <td>83</td>\n",
              "      <td>0.278724</td>\n",
              "      <td>#na#</td>\n",
              "      <td>00:01</td>\n",
              "    </tr>\n",
              "    <tr>\n",
              "      <td>84</td>\n",
              "      <td>0.271929</td>\n",
              "      <td>#na#</td>\n",
              "      <td>00:01</td>\n",
              "    </tr>\n",
              "    <tr>\n",
              "      <td>85</td>\n",
              "      <td>0.265329</td>\n",
              "      <td>#na#</td>\n",
              "      <td>00:01</td>\n",
              "    </tr>\n",
              "    <tr>\n",
              "      <td>86</td>\n",
              "      <td>0.264442</td>\n",
              "      <td>#na#</td>\n",
              "      <td>00:01</td>\n",
              "    </tr>\n",
              "    <tr>\n",
              "      <td>87</td>\n",
              "      <td>0.664365</td>\n",
              "      <td>#na#</td>\n",
              "      <td>00:01</td>\n",
              "    </tr>\n",
              "  </tbody>\n",
              "</table><p>\n",
              "\n",
              "    <div>\n",
              "        <style>\n",
              "            /* Turns off some styling */\n",
              "            progress {\n",
              "                /* gets rid of default border in Firefox and Opera. */\n",
              "                border: none;\n",
              "                /* Needs to be in here for Safari polyfill so background images work as expected. */\n",
              "                background-size: auto;\n",
              "            }\n",
              "            .progress-bar-interrupted, .progress-bar-interrupted::-webkit-progress-bar {\n",
              "                background: #F44336;\n",
              "            }\n",
              "        </style>\n",
              "      <progress value='0' class='' max='1', style='width:300px; height:20px; vertical-align: middle;'></progress>\n",
              "      0.00% [0/1 00:00<00:00]\n",
              "    </div>\n",
              "    "
            ],
            "text/plain": [
              "<IPython.core.display.HTML object>"
            ]
          },
          "metadata": {
            "tags": []
          }
        },
        {
          "output_type": "stream",
          "text": [
            "LR Finder is complete, type {learner_name}.recorder.plot() to see the graph.\n"
          ],
          "name": "stdout"
        },
        {
          "output_type": "display_data",
          "data": {
            "image/png": "[encoded data removed]",
            "text/plain": [
              "<Figure size 432x288 with 1 Axes>"
            ]
          },
          "metadata": {
            "tags": []
          }
        }
      ]
    },
    {
      "cell_type": "code",
      "metadata": {
        "colab_type": "code",
        "id": "Ig6B-uWi9FQL",
        "colab": {}
      },
      "source": [
        "lr = 1e-2"
      ],
      "execution_count": 0,
      "outputs": []
    },
    {
      "cell_type": "code",
      "metadata": {
        "colab_type": "code",
        "id": "22Alieyz9MsQ",
        "outputId": "0d19169d-248e-409b-aaab-f9c94a722fa4",
        "colab": {
          "base_uri": "https://localhost:8080/",
          "height": 659
        }
      },
      "source": [
        "learn.fit_one_cycle(20, max_lr = lr)"
      ],
      "execution_count": 0,
      "outputs": [
        {
          "output_type": "display_data",
          "data": {
            "text/html": [
              "<table border=\"1\" class=\"dataframe\">\n",
              "  <thead>\n",
              "    <tr style=\"text-align: left;\">\n",
              "      <th>epoch</th>\n",
              "      <th>train_loss</th>\n",
              "      <th>valid_loss</th>\n",
              "      <th>accuracy</th>\n",
              "      <th>time</th>\n",
              "    </tr>\n",
              "  </thead>\n",
              "  <tbody>\n",
              "    <tr>\n",
              "      <td>0</td>\n",
              "      <td>1.485371</td>\n",
              "      <td>0.279783</td>\n",
              "      <td>0.866667</td>\n",
              "      <td>00:02</td>\n",
              "    </tr>\n",
              "    <tr>\n",
              "      <td>1</td>\n",
              "      <td>0.926021</td>\n",
              "      <td>0.002626</td>\n",
              "      <td>1.000000</td>\n",
              "      <td>00:01</td>\n",
              "    </tr>\n",
              "    <tr>\n",
              "      <td>2</td>\n",
              "      <td>0.612603</td>\n",
              "      <td>0.000060</td>\n",
              "      <td>1.000000</td>\n",
              "      <td>00:01</td>\n",
              "    </tr>\n",
              "    <tr>\n",
              "      <td>3</td>\n",
              "      <td>0.457427</td>\n",
              "      <td>0.000001</td>\n",
              "      <td>1.000000</td>\n",
              "      <td>00:01</td>\n",
              "    </tr>\n",
              "    <tr>\n",
              "      <td>4</td>\n",
              "      <td>0.362221</td>\n",
              "      <td>0.000001</td>\n",
              "      <td>1.000000</td>\n",
              "      <td>00:01</td>\n",
              "    </tr>\n",
              "    <tr>\n",
              "      <td>5</td>\n",
              "      <td>0.305486</td>\n",
              "      <td>0.002252</td>\n",
              "      <td>1.000000</td>\n",
              "      <td>00:01</td>\n",
              "    </tr>\n",
              "    <tr>\n",
              "      <td>6</td>\n",
              "      <td>0.259281</td>\n",
              "      <td>0.622828</td>\n",
              "      <td>0.800000</td>\n",
              "      <td>00:01</td>\n",
              "    </tr>\n",
              "    <tr>\n",
              "      <td>7</td>\n",
              "      <td>0.255737</td>\n",
              "      <td>0.356728</td>\n",
              "      <td>0.933333</td>\n",
              "      <td>00:01</td>\n",
              "    </tr>\n",
              "    <tr>\n",
              "      <td>8</td>\n",
              "      <td>0.227327</td>\n",
              "      <td>0.425298</td>\n",
              "      <td>0.933333</td>\n",
              "      <td>00:02</td>\n",
              "    </tr>\n",
              "    <tr>\n",
              "      <td>9</td>\n",
              "      <td>0.202568</td>\n",
              "      <td>0.018978</td>\n",
              "      <td>1.000000</td>\n",
              "      <td>00:01</td>\n",
              "    </tr>\n",
              "    <tr>\n",
              "      <td>10</td>\n",
              "      <td>0.183746</td>\n",
              "      <td>0.141487</td>\n",
              "      <td>0.933333</td>\n",
              "      <td>00:01</td>\n",
              "    </tr>\n",
              "    <tr>\n",
              "      <td>11</td>\n",
              "      <td>0.166683</td>\n",
              "      <td>0.690861</td>\n",
              "      <td>0.866667</td>\n",
              "      <td>00:01</td>\n",
              "    </tr>\n",
              "    <tr>\n",
              "      <td>12</td>\n",
              "      <td>0.176143</td>\n",
              "      <td>1.356672</td>\n",
              "      <td>0.666667</td>\n",
              "      <td>00:01</td>\n",
              "    </tr>\n",
              "    <tr>\n",
              "      <td>13</td>\n",
              "      <td>0.161848</td>\n",
              "      <td>1.888064</td>\n",
              "      <td>0.666667</td>\n",
              "      <td>00:01</td>\n",
              "    </tr>\n",
              "    <tr>\n",
              "      <td>14</td>\n",
              "      <td>0.149471</td>\n",
              "      <td>1.894396</td>\n",
              "      <td>0.733333</td>\n",
              "      <td>00:01</td>\n",
              "    </tr>\n",
              "    <tr>\n",
              "      <td>15</td>\n",
              "      <td>0.138648</td>\n",
              "      <td>1.733614</td>\n",
              "      <td>0.733333</td>\n",
              "      <td>00:02</td>\n",
              "    </tr>\n",
              "    <tr>\n",
              "      <td>16</td>\n",
              "      <td>0.129339</td>\n",
              "      <td>1.507949</td>\n",
              "      <td>0.733333</td>\n",
              "      <td>00:01</td>\n",
              "    </tr>\n",
              "    <tr>\n",
              "      <td>17</td>\n",
              "      <td>0.120951</td>\n",
              "      <td>1.286563</td>\n",
              "      <td>0.800000</td>\n",
              "      <td>00:02</td>\n",
              "    </tr>\n",
              "    <tr>\n",
              "      <td>18</td>\n",
              "      <td>0.113386</td>\n",
              "      <td>0.862310</td>\n",
              "      <td>0.866667</td>\n",
              "      <td>00:01</td>\n",
              "    </tr>\n",
              "    <tr>\n",
              "      <td>19</td>\n",
              "      <td>0.120573</td>\n",
              "      <td>0.612945</td>\n",
              "      <td>0.933333</td>\n",
              "      <td>00:01</td>\n",
              "    </tr>\n",
              "  </tbody>\n",
              "</table>"
            ],
            "text/plain": [
              "<IPython.core.display.HTML object>"
            ]
          },
          "metadata": {
            "tags": []
          }
        }
      ]
    },
    {
      "cell_type": "code",
      "metadata": {
        "colab_type": "code",
        "id": "d2_ZPlQQ9RVT",
        "colab": {}
      },
      "source": [
        "learn.save('stage-1_class_2-rn152-bench')"
      ],
      "execution_count": 0,
      "outputs": []
    },
    {
      "cell_type": "code",
      "metadata": {
        "colab_type": "code",
        "id": "lBeC2fpm9WMN",
        "colab": {}
      },
      "source": [
        "learn.unfreeze()"
      ],
      "execution_count": 0,
      "outputs": []
    },
    {
      "cell_type": "markdown",
      "metadata": {
        "id": "VtWnm5MJpB_6",
        "colab_type": "text"
      },
      "source": [
        "# Compiling model for another batch size. "
      ]
    },
    {
      "cell_type": "code",
      "metadata": {
        "colab_type": "code",
        "id": "5wM_Hmh09Z75",
        "outputId": "b0e8d91f-b8ad-4ab6-a93f-9fd3a95daeed",
        "colab": {
          "base_uri": "https://localhost:8080/",
          "height": 34
        }
      },
      "source": [
        "data.batch_size = 16\n",
        "data.batch_size"
      ],
      "execution_count": 0,
      "outputs": [
        {
          "output_type": "execute_result",
          "data": {
            "text/plain": [
              "16"
            ]
          },
          "metadata": {
            "tags": []
          },
          "execution_count": 37
        }
      ]
    },
    {
      "cell_type": "code",
      "metadata": {
        "colab_type": "code",
        "id": "XJhn4-1c9g8V",
        "outputId": "3956bd14-0dea-4d35-e088-e96338ac1283",
        "colab": {
          "base_uri": "https://localhost:8080/",
          "height": 374
        }
      },
      "source": [
        "learn.lr_find(start_lr=1e-8, end_lr=9e-1, num_it=200)\n",
        "learn.recorder.plot()"
      ],
      "execution_count": 0,
      "outputs": [
        {
          "output_type": "display_data",
          "data": {
            "text/html": [
              "\n",
              "    <div>\n",
              "        <style>\n",
              "            /* Turns off some styling */\n",
              "            progress {\n",
              "                /* gets rid of default border in Firefox and Opera. */\n",
              "                border: none;\n",
              "                /* Needs to be in here for Safari polyfill so background images work as expected. */\n",
              "                background-size: auto;\n",
              "            }\n",
              "            .progress-bar-interrupted, .progress-bar-interrupted::-webkit-progress-bar {\n",
              "                background: #F44336;\n",
              "            }\n",
              "        </style>\n",
              "      <progress value='0' class='' max='1', style='width:300px; height:20px; vertical-align: middle;'></progress>\n",
              "      0.00% [0/1 00:00<00:00]\n",
              "    </div>\n",
              "    \n",
              "<table border=\"1\" class=\"dataframe\">\n",
              "  <thead>\n",
              "    <tr style=\"text-align: left;\">\n",
              "      <th>epoch</th>\n",
              "      <th>train_loss</th>\n",
              "      <th>valid_loss</th>\n",
              "      <th>accuracy</th>\n",
              "      <th>time</th>\n",
              "    </tr>\n",
              "  </thead>\n",
              "  <tbody>\n",
              "  </tbody>\n",
              "</table><p>\n",
              "\n",
              "    <div>\n",
              "        <style>\n",
              "            /* Turns off some styling */\n",
              "            progress {\n",
              "                /* gets rid of default border in Firefox and Opera. */\n",
              "                border: none;\n",
              "                /* Needs to be in here for Safari polyfill so background images work as expected. */\n",
              "                background-size: auto;\n",
              "            }\n",
              "            .progress-bar-interrupted, .progress-bar-interrupted::-webkit-progress-bar {\n",
              "                background: #F44336;\n",
              "            }\n",
              "        </style>\n",
              "      <progress value='110' class='' max='407', style='width:300px; height:20px; vertical-align: middle;'></progress>\n",
              "      27.03% [110/407 00:42<01:53 0.7245]\n",
              "    </div>\n",
              "    "
            ],
            "text/plain": [
              "<IPython.core.display.HTML object>"
            ]
          },
          "metadata": {
            "tags": []
          }
        },
        {
          "output_type": "stream",
          "text": [
            "LR Finder is complete, type {learner_name}.recorder.plot() to see the graph.\n"
          ],
          "name": "stdout"
        },
        {
          "output_type": "display_data",
          "data": {
            "image/png": "[encoded data removed]",
            "text/plain": [
              "<Figure size 432x288 with 1 Axes>"
            ]
          },
          "metadata": {
            "tags": []
          }
        }
      ]
    },
    {
      "cell_type": "code",
      "metadata": {
        "colab_type": "code",
        "id": "ewzwK4Ob9oWz",
        "colab": {}
      },
      "source": [
        "lr = 1e-7\n",
        "lrs = np.array([lr/100,lr/10,lr])"
      ],
      "execution_count": 0,
      "outputs": []
    },
    {
      "cell_type": "code",
      "metadata": {
        "colab_type": "code",
        "id": "TsiNSQF79sLo",
        "outputId": "63cd5b43-0f2e-422a-e836-1678c111c61f",
        "colab": {
          "base_uri": "https://localhost:8080/",
          "height": 204
        }
      },
      "source": [
        "learn.fit_one_cycle(5, lrs)"
      ],
      "execution_count": 0,
      "outputs": [
        {
          "output_type": "display_data",
          "data": {
            "text/html": [
              "<table border=\"1\" class=\"dataframe\">\n",
              "  <thead>\n",
              "    <tr style=\"text-align: left;\">\n",
              "      <th>epoch</th>\n",
              "      <th>train_loss</th>\n",
              "      <th>valid_loss</th>\n",
              "      <th>accuracy</th>\n",
              "      <th>time</th>\n",
              "    </tr>\n",
              "  </thead>\n",
              "  <tbody>\n",
              "    <tr>\n",
              "      <td>0</td>\n",
              "      <td>0.371123</td>\n",
              "      <td>0.771714</td>\n",
              "      <td>0.743902</td>\n",
              "      <td>00:40</td>\n",
              "    </tr>\n",
              "    <tr>\n",
              "      <td>1</td>\n",
              "      <td>0.384908</td>\n",
              "      <td>0.767987</td>\n",
              "      <td>0.762195</td>\n",
              "      <td>00:40</td>\n",
              "    </tr>\n",
              "    <tr>\n",
              "      <td>2</td>\n",
              "      <td>0.368348</td>\n",
              "      <td>0.768705</td>\n",
              "      <td>0.746951</td>\n",
              "      <td>00:39</td>\n",
              "    </tr>\n",
              "    <tr>\n",
              "      <td>3</td>\n",
              "      <td>0.352704</td>\n",
              "      <td>0.763301</td>\n",
              "      <td>0.750000</td>\n",
              "      <td>00:38</td>\n",
              "    </tr>\n",
              "    <tr>\n",
              "      <td>4</td>\n",
              "      <td>0.367411</td>\n",
              "      <td>0.765306</td>\n",
              "      <td>0.750000</td>\n",
              "      <td>00:38</td>\n",
              "    </tr>\n",
              "  </tbody>\n",
              "</table>"
            ],
            "text/plain": [
              "<IPython.core.display.HTML object>"
            ]
          },
          "metadata": {
            "tags": []
          }
        }
      ]
    },
    {
      "cell_type": "code",
      "metadata": {
        "colab_type": "code",
        "id": "rr8c4ltF9wkf",
        "colab": {}
      },
      "source": [
        "learn.save('stage-2-rn152-bench')"
      ],
      "execution_count": 0,
      "outputs": []
    },
    {
      "cell_type": "code",
      "metadata": {
        "colab_type": "code",
        "id": "ll7tHEur98xK",
        "colab": {}
      },
      "source": [
        "# Testing with higher LR and unfrozen layers\n",
        "learn.load('stage-1_class_2-rn152-bench')\n",
        "learn.unfreeze()\n",
        "#data.batch_size = 16\n",
        "\n",
        "#lr = 1e-3\n",
        "#lrs = np.array([lr/100,lr/10,lr])\n",
        "\n",
        "#learn.fit_one_cycle(6, lrs)"
      ],
      "execution_count": 0,
      "outputs": []
    },
    {
      "cell_type": "markdown",
      "metadata": {
        "id": "lAY4wV1IpPdO",
        "colab_type": "text"
      },
      "source": [
        "# Loading and preparing the test set data to fed into ResNet architecture."
      ]
    },
    {
      "cell_type": "code",
      "metadata": {
        "colab_type": "code",
        "id": "LpP4M2i8AEDm",
        "outputId": "3d381097-eacb-4735-8cbf-458e319de188",
        "colab": {
          "base_uri": "https://localhost:8080/",
          "height": 568
        }
      },
      "source": [
        "SZ = 224\n",
        "SEED = 42\n",
        "LABEL = 'class_name'\n",
        "path = \"/content/drive/My Drive/ObjectID_Stanford_Dataset/\"\n",
        "\n",
        "car_tfms = get_transforms()\n",
        "trn_labels_df = labels_df.loc[labels_df['is_test']==1, ['Image_Name','is_test', 'class_name', 'Car_Categories']].copy()\n",
        "print(labels_df)\n",
        "src = (ImageList.from_df(labels_df, path + 'car_data/' , folder='test/Testing_Set_3', cols='filename_rename')\n",
        "       # the 'is_test' column has values of 1 for the test set\n",
        "       .split_from_df(col='is_test')\n",
        "       .label_from_df(cols=LABEL))\n",
        "\n",
        "data_test = (src.transform(car_tfms, size=SZ)\n",
        "            .databunch()\n",
        "            .normalize(imagenet_stats))\n",
        "\n",
        "print(trn_labels_df.shape)            \n",
        "print(data_test)"
      ],
      "execution_count": 0,
      "outputs": [
        {
          "output_type": "stream",
          "text": [
            "    Image_Name  Box_x1  Box_y1  ...             class_name  is_test  filename_rename\n",
            "0    00163.jpg      46      84  ...  AM General Hummer SUV        0        00163.jpg\n",
            "1    00462.jpg       5       8  ...  AM General Hummer SUV        0        00462.jpg\n",
            "2    00522.jpg       6       7  ...  AM General Hummer SUV        0        00522.jpg\n",
            "3    00670.jpg      97      49  ...         Acura RL Sedan        0        00670.jpg\n",
            "4    00691.jpg      84     189  ...         Acura RL Sedan        0        00691.jpg\n",
            "..         ...     ...     ...  ...                    ...      ...              ...\n",
            "148  07530.jpg      70      94  ...  AM General Hummer SUV        1   test_07530.jpg\n",
            "149  07841.jpg     129     213  ...         Acura RL Sedan        1   test_07841.jpg\n",
            "150  07917.jpg      87       6  ...  AM General Hummer SUV        1   test_07917.jpg\n",
            "151  07948.jpg       5       4  ...  AM General Hummer SUV        1   test_07948.jpg\n",
            "152  08035.jpg      10      18  ...  AM General Hummer SUV        1   test_08035.jpg\n",
            "\n",
            "[153 rows x 9 columns]\n",
            "(76, 4)\n",
            "ImageDataBunch;\n",
            "\n",
            "Train: LabelList (77 items)\n",
            "x: ImageList\n",
            "Image (3, 224, 224),Image (3, 224, 224),Image (3, 224, 224),Image (3, 224, 224),Image (3, 224, 224)\n",
            "y: CategoryList\n",
            "AM General Hummer SUV,AM General Hummer SUV,AM General Hummer SUV,Acura RL Sedan,Acura RL Sedan\n",
            "Path: /content/drive/My Drive/ObjectID_Stanford_Dataset/car_data;\n",
            "\n",
            "Valid: LabelList (76 items)\n",
            "x: ImageList\n",
            "Image (3, 224, 224),Image (3, 224, 224),Image (3, 224, 224),Image (3, 224, 224),Image (3, 224, 224)\n",
            "y: CategoryList\n",
            "AM General Hummer SUV,Acura RL Sedan,Acura RL Sedan,Acura RL Sedan,AM General Hummer SUV\n",
            "Path: /content/drive/My Drive/ObjectID_Stanford_Dataset/car_data;\n",
            "\n",
            "Test: None\n"
          ],
          "name": "stdout"
        }
      ]
    },
    {
      "cell_type": "markdown",
      "metadata": {
        "id": "i-xLrqaJrSmL",
        "colab_type": "text"
      },
      "source": [
        "# Compiling the test data."
      ]
    },
    {
      "cell_type": "code",
      "metadata": {
        "colab_type": "code",
        "id": "7BV_JMxUAPxS",
        "colab": {}
      },
      "source": [
        "learn.data = data_test"
      ],
      "execution_count": 0,
      "outputs": []
    },
    {
      "cell_type": "code",
      "metadata": {
        "colab_type": "code",
        "id": "BRHTFRAbAZeK",
        "outputId": "a1b7ea78-e31a-43e8-d47e-bda4bfe8f966",
        "colab": {
          "base_uri": "https://localhost:8080/",
          "height": 17
        }
      },
      "source": [
        "test_preds, test_ys = learn.TTA()"
      ],
      "execution_count": 0,
      "outputs": [
        {
          "output_type": "display_data",
          "data": {
            "text/html": [
              ""
            ],
            "text/plain": [
              "<IPython.core.display.HTML object>"
            ]
          },
          "metadata": {
            "tags": []
          }
        },
        {
          "output_type": "display_data",
          "data": {
            "text/html": [
              ""
            ],
            "text/plain": [
              "<IPython.core.display.HTML object>"
            ]
          },
          "metadata": {
            "tags": []
          }
        }
      ]
    },
    {
      "cell_type": "code",
      "metadata": {
        "id": "I0YYydSi-M7s",
        "colab_type": "code",
        "outputId": "785cfc0c-412f-4daf-b91f-e4eee0997aca",
        "colab": {
          "base_uri": "https://localhost:8080/",
          "height": 34
        }
      },
      "source": [
        "test_preds.shape"
      ],
      "execution_count": 0,
      "outputs": [
        {
          "output_type": "execute_result",
          "data": {
            "text/plain": [
              "torch.Size([245, 6])"
            ]
          },
          "metadata": {
            "tags": []
          },
          "execution_count": 141
        }
      ]
    },
    {
      "cell_type": "markdown",
      "metadata": {
        "id": "wnePiX7QrbBX",
        "colab_type": "text"
      },
      "source": [
        "# Evaluating the Accuracy Score."
      ]
    },
    {
      "cell_type": "code",
      "metadata": {
        "colab_type": "code",
        "id": "hbc7IsnSAams",
        "outputId": "72a1a3cc-0b0f-4b02-b2fa-6156268c92c1",
        "colab": {
          "base_uri": "https://localhost:8080/",
          "height": 34
        }
      },
      "source": [
        "accuracy(test_preds, test_ys)"
      ],
      "execution_count": 0,
      "outputs": [
        {
          "output_type": "execute_result",
          "data": {
            "text/plain": [
              "tensor(0.9079)"
            ]
          },
          "metadata": {
            "tags": []
          },
          "execution_count": 183
        }
      ]
    },
    {
      "cell_type": "markdown",
      "metadata": {
        "id": "L3TSmMSmr19a",
        "colab_type": "text"
      },
      "source": [
        "# The Accuracy Score with different Number of Classes from ResNet model."
      ]
    },
    {
      "cell_type": "code",
      "metadata": {
        "colab_type": "code",
        "id": "4lonp8vNEk0-",
        "colab": {}
      },
      "source": [
        "accuracy_resnet = [[2,90.79],[4,85.09],[6,82.45], [8,83.28], [10,77.42], [20,73.59], [40,77.84], [60,81.15], [80,80.73], [100,81.78], [120,83.96], [140,83.24], [160,84.18], [180,84.16] , [196,84.85]]"
      ],
      "execution_count": 0,
      "outputs": []
    }
  ]
}